{
  "nbformat": 4,
  "nbformat_minor": 0,
  "metadata": {
    "colab": {
      "provenance": [],
      "gpuType": "T4"
    },
    "kernelspec": {
      "name": "python3",
      "display_name": "Python 3"
    },
    "language_info": {
      "name": "python"
    }
  },
  "cells": [
    {
      "cell_type": "markdown",
      "source": [
        "# Proyek Analisis Data: Bike Sharing Dataset\n",
        "- **Nama:** Angelina Abigail Nintha\n",
        "- **Email:** angelinakembaren@gmail.com\n",
        "- **ID Dicoding:** Angelina Abigail Nintha"
      ],
      "metadata": {
        "id": "M2lYcfx5SIbo"
      }
    },
    {
      "cell_type": "markdown",
      "source": [
        "## Menentukan Pertanyaan Bisnis"
      ],
      "metadata": {
        "id": "maSUH5DGSN-B"
      }
    },
    {
      "cell_type": "markdown",
      "source": [
        "- Pertanyaan 1 : Pada saat weekday di tahun 2011 & 2012, bulan manakah yang memiliki tingkat sewa sepeda paling tinggi dan rendah?\n",
        "\n",
        "- Pertanyaan 2 : Pada musim apa yang paling banyak dan yang paling sedikit untuk casual, registered, dan total user meminjam sepeda pada tahun 2011-2012?"
      ],
      "metadata": {
        "id": "5WmNvxb8SO3g"
      }
    },
    {
      "cell_type": "markdown",
      "source": [
        "## Import Semua Packages/Library yang Digunakan"
      ],
      "metadata": {
        "id": "FywOXKaFTQ5F"
      }
    },
    {
      "cell_type": "code",
      "source": [
        "import pandas as pd\n",
        "import matplotlib.pyplot as plt\n",
        "from matplotlib.ticker import FuncFormatter"
      ],
      "metadata": {
        "id": "BeRP3EFxTXEp"
      },
      "execution_count": 83,
      "outputs": []
    },
    {
      "cell_type": "markdown",
      "source": [
        "## Data Wrangling"
      ],
      "metadata": {
        "id": "b_m9AGclh0u_"
      }
    },
    {
      "cell_type": "markdown",
      "source": [
        "### Gathering Data"
      ],
      "metadata": {
        "id": "rjyDpk2nh1X1"
      }
    },
    {
      "cell_type": "code",
      "source": [
        "path_dataset = \"/day.csv\""
      ],
      "metadata": {
        "id": "yNAIeQWFXq49"
      },
      "execution_count": 84,
      "outputs": []
    },
    {
      "cell_type": "code",
      "source": [
        "df = pd.read_csv(path_dataset)"
      ],
      "metadata": {
        "id": "zEN9v08dX6qo"
      },
      "execution_count": 85,
      "outputs": []
    },
    {
      "cell_type": "markdown",
      "source": [
        "### Assessing Data"
      ],
      "metadata": {
        "id": "we-y4Vtmpcw_"
      }
    },
    {
      "cell_type": "code",
      "source": [
        "df.isnull().sum()"
      ],
      "metadata": {
        "colab": {
          "base_uri": "https://localhost:8080/"
        },
        "id": "lvfiOLcOpj_A",
        "outputId": "477532d5-f1bf-488c-c18f-198f6e328956"
      },
      "execution_count": null,
      "outputs": [
        {
          "output_type": "execute_result",
          "data": {
            "text/plain": [
              "instant       0\n",
              "dteday        0\n",
              "season        0\n",
              "yr            0\n",
              "mnth          0\n",
              "holiday       0\n",
              "weekday       0\n",
              "workingday    0\n",
              "weathersit    0\n",
              "temp          0\n",
              "atemp         0\n",
              "hum           0\n",
              "windspeed     0\n",
              "casual        0\n",
              "registered    0\n",
              "cnt           0\n",
              "dtype: int64"
            ]
          },
          "metadata": {},
          "execution_count": 42
        }
      ]
    },
    {
      "cell_type": "markdown",
      "source": [
        "###Cleaning Data"
      ],
      "metadata": {
        "id": "CvUeJoUXqM_v"
      }
    },
    {
      "cell_type": "markdown",
      "source": [
        "## Exploratory Data Analysis (EDA)"
      ],
      "metadata": {
        "id": "ypEirXsFrRo2"
      }
    },
    {
      "cell_type": "markdown",
      "source": [
        "### Explore"
      ],
      "metadata": {
        "id": "-giimb9ErU44"
      }
    },
    {
      "cell_type": "markdown",
      "source": [
        "*melihat tabel apa saja yang digunakan*"
      ],
      "metadata": {
        "id": "ESEKqVbpX0Oj"
      }
    },
    {
      "cell_type": "code",
      "source": [
        "df.describe(include=\"all\")"
      ],
      "metadata": {
        "colab": {
          "base_uri": "https://localhost:8080/",
          "height": 427
        },
        "id": "zpx5tmwtq0d3",
        "outputId": "3fd4591b-b4cc-4ac4-f6f4-5f5ffff5284d"
      },
      "execution_count": null,
      "outputs": [
        {
          "output_type": "execute_result",
          "data": {
            "text/plain": [
              "           instant      dteday      season          yr        mnth  \\\n",
              "count   731.000000         731  731.000000  731.000000  731.000000   \n",
              "unique         NaN         731         NaN         NaN         NaN   \n",
              "top            NaN  2011-01-01         NaN         NaN         NaN   \n",
              "freq           NaN           1         NaN         NaN         NaN   \n",
              "mean    366.000000         NaN    2.496580    0.500684    6.519836   \n",
              "std     211.165812         NaN    1.110807    0.500342    3.451913   \n",
              "min       1.000000         NaN    1.000000    0.000000    1.000000   \n",
              "25%     183.500000         NaN    2.000000    0.000000    4.000000   \n",
              "50%     366.000000         NaN    3.000000    1.000000    7.000000   \n",
              "75%     548.500000         NaN    3.000000    1.000000   10.000000   \n",
              "max     731.000000         NaN    4.000000    1.000000   12.000000   \n",
              "\n",
              "           holiday     weekday  workingday  weathersit        temp  \\\n",
              "count   731.000000  731.000000  731.000000  731.000000  731.000000   \n",
              "unique         NaN         NaN         NaN         NaN         NaN   \n",
              "top            NaN         NaN         NaN         NaN         NaN   \n",
              "freq           NaN         NaN         NaN         NaN         NaN   \n",
              "mean      0.028728    2.997264    0.683995    1.395349    0.495385   \n",
              "std       0.167155    2.004787    0.465233    0.544894    0.183051   \n",
              "min       0.000000    0.000000    0.000000    1.000000    0.059130   \n",
              "25%       0.000000    1.000000    0.000000    1.000000    0.337083   \n",
              "50%       0.000000    3.000000    1.000000    1.000000    0.498333   \n",
              "75%       0.000000    5.000000    1.000000    2.000000    0.655417   \n",
              "max       1.000000    6.000000    1.000000    3.000000    0.861667   \n",
              "\n",
              "             atemp         hum   windspeed       casual   registered  \\\n",
              "count   731.000000  731.000000  731.000000   731.000000   731.000000   \n",
              "unique         NaN         NaN         NaN          NaN          NaN   \n",
              "top            NaN         NaN         NaN          NaN          NaN   \n",
              "freq           NaN         NaN         NaN          NaN          NaN   \n",
              "mean      0.474354    0.627894    0.190486   848.176471  3656.172367   \n",
              "std       0.162961    0.142429    0.077498   686.622488  1560.256377   \n",
              "min       0.079070    0.000000    0.022392     2.000000    20.000000   \n",
              "25%       0.337842    0.520000    0.134950   315.500000  2497.000000   \n",
              "50%       0.486733    0.626667    0.180975   713.000000  3662.000000   \n",
              "75%       0.608602    0.730209    0.233214  1096.000000  4776.500000   \n",
              "max       0.840896    0.972500    0.507463  3410.000000  6946.000000   \n",
              "\n",
              "                cnt  \n",
              "count    731.000000  \n",
              "unique          NaN  \n",
              "top             NaN  \n",
              "freq            NaN  \n",
              "mean    4504.348837  \n",
              "std     1937.211452  \n",
              "min       22.000000  \n",
              "25%     3152.000000  \n",
              "50%     4548.000000  \n",
              "75%     5956.000000  \n",
              "max     8714.000000  "
            ],
            "text/html": [
              "\n",
              "  <div id=\"df-2291d2dc-da10-4e35-b253-88546e064ac7\" class=\"colab-df-container\">\n",
              "    <div>\n",
              "<style scoped>\n",
              "    .dataframe tbody tr th:only-of-type {\n",
              "        vertical-align: middle;\n",
              "    }\n",
              "\n",
              "    .dataframe tbody tr th {\n",
              "        vertical-align: top;\n",
              "    }\n",
              "\n",
              "    .dataframe thead th {\n",
              "        text-align: right;\n",
              "    }\n",
              "</style>\n",
              "<table border=\"1\" class=\"dataframe\">\n",
              "  <thead>\n",
              "    <tr style=\"text-align: right;\">\n",
              "      <th></th>\n",
              "      <th>instant</th>\n",
              "      <th>dteday</th>\n",
              "      <th>season</th>\n",
              "      <th>yr</th>\n",
              "      <th>mnth</th>\n",
              "      <th>holiday</th>\n",
              "      <th>weekday</th>\n",
              "      <th>workingday</th>\n",
              "      <th>weathersit</th>\n",
              "      <th>temp</th>\n",
              "      <th>atemp</th>\n",
              "      <th>hum</th>\n",
              "      <th>windspeed</th>\n",
              "      <th>casual</th>\n",
              "      <th>registered</th>\n",
              "      <th>cnt</th>\n",
              "    </tr>\n",
              "  </thead>\n",
              "  <tbody>\n",
              "    <tr>\n",
              "      <th>count</th>\n",
              "      <td>731.000000</td>\n",
              "      <td>731</td>\n",
              "      <td>731.000000</td>\n",
              "      <td>731.000000</td>\n",
              "      <td>731.000000</td>\n",
              "      <td>731.000000</td>\n",
              "      <td>731.000000</td>\n",
              "      <td>731.000000</td>\n",
              "      <td>731.000000</td>\n",
              "      <td>731.000000</td>\n",
              "      <td>731.000000</td>\n",
              "      <td>731.000000</td>\n",
              "      <td>731.000000</td>\n",
              "      <td>731.000000</td>\n",
              "      <td>731.000000</td>\n",
              "      <td>731.000000</td>\n",
              "    </tr>\n",
              "    <tr>\n",
              "      <th>unique</th>\n",
              "      <td>NaN</td>\n",
              "      <td>731</td>\n",
              "      <td>NaN</td>\n",
              "      <td>NaN</td>\n",
              "      <td>NaN</td>\n",
              "      <td>NaN</td>\n",
              "      <td>NaN</td>\n",
              "      <td>NaN</td>\n",
              "      <td>NaN</td>\n",
              "      <td>NaN</td>\n",
              "      <td>NaN</td>\n",
              "      <td>NaN</td>\n",
              "      <td>NaN</td>\n",
              "      <td>NaN</td>\n",
              "      <td>NaN</td>\n",
              "      <td>NaN</td>\n",
              "    </tr>\n",
              "    <tr>\n",
              "      <th>top</th>\n",
              "      <td>NaN</td>\n",
              "      <td>2011-01-01</td>\n",
              "      <td>NaN</td>\n",
              "      <td>NaN</td>\n",
              "      <td>NaN</td>\n",
              "      <td>NaN</td>\n",
              "      <td>NaN</td>\n",
              "      <td>NaN</td>\n",
              "      <td>NaN</td>\n",
              "      <td>NaN</td>\n",
              "      <td>NaN</td>\n",
              "      <td>NaN</td>\n",
              "      <td>NaN</td>\n",
              "      <td>NaN</td>\n",
              "      <td>NaN</td>\n",
              "      <td>NaN</td>\n",
              "    </tr>\n",
              "    <tr>\n",
              "      <th>freq</th>\n",
              "      <td>NaN</td>\n",
              "      <td>1</td>\n",
              "      <td>NaN</td>\n",
              "      <td>NaN</td>\n",
              "      <td>NaN</td>\n",
              "      <td>NaN</td>\n",
              "      <td>NaN</td>\n",
              "      <td>NaN</td>\n",
              "      <td>NaN</td>\n",
              "      <td>NaN</td>\n",
              "      <td>NaN</td>\n",
              "      <td>NaN</td>\n",
              "      <td>NaN</td>\n",
              "      <td>NaN</td>\n",
              "      <td>NaN</td>\n",
              "      <td>NaN</td>\n",
              "    </tr>\n",
              "    <tr>\n",
              "      <th>mean</th>\n",
              "      <td>366.000000</td>\n",
              "      <td>NaN</td>\n",
              "      <td>2.496580</td>\n",
              "      <td>0.500684</td>\n",
              "      <td>6.519836</td>\n",
              "      <td>0.028728</td>\n",
              "      <td>2.997264</td>\n",
              "      <td>0.683995</td>\n",
              "      <td>1.395349</td>\n",
              "      <td>0.495385</td>\n",
              "      <td>0.474354</td>\n",
              "      <td>0.627894</td>\n",
              "      <td>0.190486</td>\n",
              "      <td>848.176471</td>\n",
              "      <td>3656.172367</td>\n",
              "      <td>4504.348837</td>\n",
              "    </tr>\n",
              "    <tr>\n",
              "      <th>std</th>\n",
              "      <td>211.165812</td>\n",
              "      <td>NaN</td>\n",
              "      <td>1.110807</td>\n",
              "      <td>0.500342</td>\n",
              "      <td>3.451913</td>\n",
              "      <td>0.167155</td>\n",
              "      <td>2.004787</td>\n",
              "      <td>0.465233</td>\n",
              "      <td>0.544894</td>\n",
              "      <td>0.183051</td>\n",
              "      <td>0.162961</td>\n",
              "      <td>0.142429</td>\n",
              "      <td>0.077498</td>\n",
              "      <td>686.622488</td>\n",
              "      <td>1560.256377</td>\n",
              "      <td>1937.211452</td>\n",
              "    </tr>\n",
              "    <tr>\n",
              "      <th>min</th>\n",
              "      <td>1.000000</td>\n",
              "      <td>NaN</td>\n",
              "      <td>1.000000</td>\n",
              "      <td>0.000000</td>\n",
              "      <td>1.000000</td>\n",
              "      <td>0.000000</td>\n",
              "      <td>0.000000</td>\n",
              "      <td>0.000000</td>\n",
              "      <td>1.000000</td>\n",
              "      <td>0.059130</td>\n",
              "      <td>0.079070</td>\n",
              "      <td>0.000000</td>\n",
              "      <td>0.022392</td>\n",
              "      <td>2.000000</td>\n",
              "      <td>20.000000</td>\n",
              "      <td>22.000000</td>\n",
              "    </tr>\n",
              "    <tr>\n",
              "      <th>25%</th>\n",
              "      <td>183.500000</td>\n",
              "      <td>NaN</td>\n",
              "      <td>2.000000</td>\n",
              "      <td>0.000000</td>\n",
              "      <td>4.000000</td>\n",
              "      <td>0.000000</td>\n",
              "      <td>1.000000</td>\n",
              "      <td>0.000000</td>\n",
              "      <td>1.000000</td>\n",
              "      <td>0.337083</td>\n",
              "      <td>0.337842</td>\n",
              "      <td>0.520000</td>\n",
              "      <td>0.134950</td>\n",
              "      <td>315.500000</td>\n",
              "      <td>2497.000000</td>\n",
              "      <td>3152.000000</td>\n",
              "    </tr>\n",
              "    <tr>\n",
              "      <th>50%</th>\n",
              "      <td>366.000000</td>\n",
              "      <td>NaN</td>\n",
              "      <td>3.000000</td>\n",
              "      <td>1.000000</td>\n",
              "      <td>7.000000</td>\n",
              "      <td>0.000000</td>\n",
              "      <td>3.000000</td>\n",
              "      <td>1.000000</td>\n",
              "      <td>1.000000</td>\n",
              "      <td>0.498333</td>\n",
              "      <td>0.486733</td>\n",
              "      <td>0.626667</td>\n",
              "      <td>0.180975</td>\n",
              "      <td>713.000000</td>\n",
              "      <td>3662.000000</td>\n",
              "      <td>4548.000000</td>\n",
              "    </tr>\n",
              "    <tr>\n",
              "      <th>75%</th>\n",
              "      <td>548.500000</td>\n",
              "      <td>NaN</td>\n",
              "      <td>3.000000</td>\n",
              "      <td>1.000000</td>\n",
              "      <td>10.000000</td>\n",
              "      <td>0.000000</td>\n",
              "      <td>5.000000</td>\n",
              "      <td>1.000000</td>\n",
              "      <td>2.000000</td>\n",
              "      <td>0.655417</td>\n",
              "      <td>0.608602</td>\n",
              "      <td>0.730209</td>\n",
              "      <td>0.233214</td>\n",
              "      <td>1096.000000</td>\n",
              "      <td>4776.500000</td>\n",
              "      <td>5956.000000</td>\n",
              "    </tr>\n",
              "    <tr>\n",
              "      <th>max</th>\n",
              "      <td>731.000000</td>\n",
              "      <td>NaN</td>\n",
              "      <td>4.000000</td>\n",
              "      <td>1.000000</td>\n",
              "      <td>12.000000</td>\n",
              "      <td>1.000000</td>\n",
              "      <td>6.000000</td>\n",
              "      <td>1.000000</td>\n",
              "      <td>3.000000</td>\n",
              "      <td>0.861667</td>\n",
              "      <td>0.840896</td>\n",
              "      <td>0.972500</td>\n",
              "      <td>0.507463</td>\n",
              "      <td>3410.000000</td>\n",
              "      <td>6946.000000</td>\n",
              "      <td>8714.000000</td>\n",
              "    </tr>\n",
              "  </tbody>\n",
              "</table>\n",
              "</div>\n",
              "    <div class=\"colab-df-buttons\">\n",
              "\n",
              "  <div class=\"colab-df-container\">\n",
              "    <button class=\"colab-df-convert\" onclick=\"convertToInteractive('df-2291d2dc-da10-4e35-b253-88546e064ac7')\"\n",
              "            title=\"Convert this dataframe to an interactive table.\"\n",
              "            style=\"display:none;\">\n",
              "\n",
              "  <svg xmlns=\"http://www.w3.org/2000/svg\" height=\"24px\" viewBox=\"0 -960 960 960\">\n",
              "    <path d=\"M120-120v-720h720v720H120Zm60-500h600v-160H180v160Zm220 220h160v-160H400v160Zm0 220h160v-160H400v160ZM180-400h160v-160H180v160Zm440 0h160v-160H620v160ZM180-180h160v-160H180v160Zm440 0h160v-160H620v160Z\"/>\n",
              "  </svg>\n",
              "    </button>\n",
              "\n",
              "  <style>\n",
              "    .colab-df-container {\n",
              "      display:flex;\n",
              "      gap: 12px;\n",
              "    }\n",
              "\n",
              "    .colab-df-convert {\n",
              "      background-color: #E8F0FE;\n",
              "      border: none;\n",
              "      border-radius: 50%;\n",
              "      cursor: pointer;\n",
              "      display: none;\n",
              "      fill: #1967D2;\n",
              "      height: 32px;\n",
              "      padding: 0 0 0 0;\n",
              "      width: 32px;\n",
              "    }\n",
              "\n",
              "    .colab-df-convert:hover {\n",
              "      background-color: #E2EBFA;\n",
              "      box-shadow: 0px 1px 2px rgba(60, 64, 67, 0.3), 0px 1px 3px 1px rgba(60, 64, 67, 0.15);\n",
              "      fill: #174EA6;\n",
              "    }\n",
              "\n",
              "    .colab-df-buttons div {\n",
              "      margin-bottom: 4px;\n",
              "    }\n",
              "\n",
              "    [theme=dark] .colab-df-convert {\n",
              "      background-color: #3B4455;\n",
              "      fill: #D2E3FC;\n",
              "    }\n",
              "\n",
              "    [theme=dark] .colab-df-convert:hover {\n",
              "      background-color: #434B5C;\n",
              "      box-shadow: 0px 1px 3px 1px rgba(0, 0, 0, 0.15);\n",
              "      filter: drop-shadow(0px 1px 2px rgba(0, 0, 0, 0.3));\n",
              "      fill: #FFFFFF;\n",
              "    }\n",
              "  </style>\n",
              "\n",
              "    <script>\n",
              "      const buttonEl =\n",
              "        document.querySelector('#df-2291d2dc-da10-4e35-b253-88546e064ac7 button.colab-df-convert');\n",
              "      buttonEl.style.display =\n",
              "        google.colab.kernel.accessAllowed ? 'block' : 'none';\n",
              "\n",
              "      async function convertToInteractive(key) {\n",
              "        const element = document.querySelector('#df-2291d2dc-da10-4e35-b253-88546e064ac7');\n",
              "        const dataTable =\n",
              "          await google.colab.kernel.invokeFunction('convertToInteractive',\n",
              "                                                    [key], {});\n",
              "        if (!dataTable) return;\n",
              "\n",
              "        const docLinkHtml = 'Like what you see? Visit the ' +\n",
              "          '<a target=\"_blank\" href=https://colab.research.google.com/notebooks/data_table.ipynb>data table notebook</a>'\n",
              "          + ' to learn more about interactive tables.';\n",
              "        element.innerHTML = '';\n",
              "        dataTable['output_type'] = 'display_data';\n",
              "        await google.colab.output.renderOutput(dataTable, element);\n",
              "        const docLink = document.createElement('div');\n",
              "        docLink.innerHTML = docLinkHtml;\n",
              "        element.appendChild(docLink);\n",
              "      }\n",
              "    </script>\n",
              "  </div>\n",
              "\n",
              "\n",
              "<div id=\"df-d5bc667e-febb-4746-85db-a4744abd8a2d\">\n",
              "  <button class=\"colab-df-quickchart\" onclick=\"quickchart('df-d5bc667e-febb-4746-85db-a4744abd8a2d')\"\n",
              "            title=\"Suggest charts\"\n",
              "            style=\"display:none;\">\n",
              "\n",
              "<svg xmlns=\"http://www.w3.org/2000/svg\" height=\"24px\"viewBox=\"0 0 24 24\"\n",
              "     width=\"24px\">\n",
              "    <g>\n",
              "        <path d=\"M19 3H5c-1.1 0-2 .9-2 2v14c0 1.1.9 2 2 2h14c1.1 0 2-.9 2-2V5c0-1.1-.9-2-2-2zM9 17H7v-7h2v7zm4 0h-2V7h2v10zm4 0h-2v-4h2v4z\"/>\n",
              "    </g>\n",
              "</svg>\n",
              "  </button>\n",
              "\n",
              "<style>\n",
              "  .colab-df-quickchart {\n",
              "      --bg-color: #E8F0FE;\n",
              "      --fill-color: #1967D2;\n",
              "      --hover-bg-color: #E2EBFA;\n",
              "      --hover-fill-color: #174EA6;\n",
              "      --disabled-fill-color: #AAA;\n",
              "      --disabled-bg-color: #DDD;\n",
              "  }\n",
              "\n",
              "  [theme=dark] .colab-df-quickchart {\n",
              "      --bg-color: #3B4455;\n",
              "      --fill-color: #D2E3FC;\n",
              "      --hover-bg-color: #434B5C;\n",
              "      --hover-fill-color: #FFFFFF;\n",
              "      --disabled-bg-color: #3B4455;\n",
              "      --disabled-fill-color: #666;\n",
              "  }\n",
              "\n",
              "  .colab-df-quickchart {\n",
              "    background-color: var(--bg-color);\n",
              "    border: none;\n",
              "    border-radius: 50%;\n",
              "    cursor: pointer;\n",
              "    display: none;\n",
              "    fill: var(--fill-color);\n",
              "    height: 32px;\n",
              "    padding: 0;\n",
              "    width: 32px;\n",
              "  }\n",
              "\n",
              "  .colab-df-quickchart:hover {\n",
              "    background-color: var(--hover-bg-color);\n",
              "    box-shadow: 0 1px 2px rgba(60, 64, 67, 0.3), 0 1px 3px 1px rgba(60, 64, 67, 0.15);\n",
              "    fill: var(--button-hover-fill-color);\n",
              "  }\n",
              "\n",
              "  .colab-df-quickchart-complete:disabled,\n",
              "  .colab-df-quickchart-complete:disabled:hover {\n",
              "    background-color: var(--disabled-bg-color);\n",
              "    fill: var(--disabled-fill-color);\n",
              "    box-shadow: none;\n",
              "  }\n",
              "\n",
              "  .colab-df-spinner {\n",
              "    border: 2px solid var(--fill-color);\n",
              "    border-color: transparent;\n",
              "    border-bottom-color: var(--fill-color);\n",
              "    animation:\n",
              "      spin 1s steps(1) infinite;\n",
              "  }\n",
              "\n",
              "  @keyframes spin {\n",
              "    0% {\n",
              "      border-color: transparent;\n",
              "      border-bottom-color: var(--fill-color);\n",
              "      border-left-color: var(--fill-color);\n",
              "    }\n",
              "    20% {\n",
              "      border-color: transparent;\n",
              "      border-left-color: var(--fill-color);\n",
              "      border-top-color: var(--fill-color);\n",
              "    }\n",
              "    30% {\n",
              "      border-color: transparent;\n",
              "      border-left-color: var(--fill-color);\n",
              "      border-top-color: var(--fill-color);\n",
              "      border-right-color: var(--fill-color);\n",
              "    }\n",
              "    40% {\n",
              "      border-color: transparent;\n",
              "      border-right-color: var(--fill-color);\n",
              "      border-top-color: var(--fill-color);\n",
              "    }\n",
              "    60% {\n",
              "      border-color: transparent;\n",
              "      border-right-color: var(--fill-color);\n",
              "    }\n",
              "    80% {\n",
              "      border-color: transparent;\n",
              "      border-right-color: var(--fill-color);\n",
              "      border-bottom-color: var(--fill-color);\n",
              "    }\n",
              "    90% {\n",
              "      border-color: transparent;\n",
              "      border-bottom-color: var(--fill-color);\n",
              "    }\n",
              "  }\n",
              "</style>\n",
              "\n",
              "  <script>\n",
              "    async function quickchart(key) {\n",
              "      const quickchartButtonEl =\n",
              "        document.querySelector('#' + key + ' button');\n",
              "      quickchartButtonEl.disabled = true;  // To prevent multiple clicks.\n",
              "      quickchartButtonEl.classList.add('colab-df-spinner');\n",
              "      try {\n",
              "        const charts = await google.colab.kernel.invokeFunction(\n",
              "            'suggestCharts', [key], {});\n",
              "      } catch (error) {\n",
              "        console.error('Error during call to suggestCharts:', error);\n",
              "      }\n",
              "      quickchartButtonEl.classList.remove('colab-df-spinner');\n",
              "      quickchartButtonEl.classList.add('colab-df-quickchart-complete');\n",
              "    }\n",
              "    (() => {\n",
              "      let quickchartButtonEl =\n",
              "        document.querySelector('#df-d5bc667e-febb-4746-85db-a4744abd8a2d button');\n",
              "      quickchartButtonEl.style.display =\n",
              "        google.colab.kernel.accessAllowed ? 'block' : 'none';\n",
              "    })();\n",
              "  </script>\n",
              "</div>\n",
              "    </div>\n",
              "  </div>\n"
            ],
            "application/vnd.google.colaboratory.intrinsic+json": {
              "type": "dataframe",
              "repr_error": "'str' object has no attribute 'empty'"
            }
          },
          "metadata": {},
          "execution_count": 45
        }
      ]
    },
    {
      "cell_type": "markdown",
      "source": [
        "## Visualization & Explanatory Analysis"
      ],
      "metadata": {
        "id": "dD3U_7frrb-y"
      }
    },
    {
      "cell_type": "markdown",
      "source": [
        "### Pertanyaan 1: Pada saat weekday di tahun 2011 & 2012, bulan manakah yang memiliki tingkat sewa sepeda paling tinggi dan rendah?"
      ],
      "metadata": {
        "id": "N8a24NrFiVXB"
      }
    },
    {
      "cell_type": "markdown",
      "source": [
        "###Sewa sepeda untuk tahun 2011"
      ],
      "metadata": {
        "id": "D2ECq-5wxXb0"
      }
    },
    {
      "cell_type": "code",
      "source": [
        "wd1 = df[(df['workingday'] == 1) & (df['mnth'] == 1)& (df['yr'] == 0)]['cnt'].sum()\n",
        "wd2 = df[(df['workingday'] == 1) & (df['mnth'] == 2)& (df['yr'] == 0)]['cnt'].sum()\n",
        "wd3 = df[(df['workingday'] == 1) & (df['mnth'] == 3)& (df['yr'] == 0)]['cnt'].sum()\n",
        "wd4 = df[(df['workingday'] == 1) & (df['mnth'] == 4)& (df['yr'] == 0)]['cnt'].sum()\n",
        "wd5 = df[(df['workingday'] == 1) & (df['mnth'] == 5)& (df['yr'] == 0)]['cnt'].sum()\n",
        "wd6 = df[(df['workingday'] == 1) & (df['mnth'] == 6)& (df['yr'] == 0)]['cnt'].sum()\n",
        "wd7 = df[(df['workingday'] == 1) & (df['mnth'] == 7)& (df['yr'] == 0)]['cnt'].sum()\n",
        "wd8 = df[(df['workingday'] == 1) & (df['mnth'] == 8)& (df['yr'] == 0)]['cnt'].sum()\n",
        "wd9 = df[(df['workingday'] == 1) & (df['mnth'] == 9)& (df['yr'] == 0)]['cnt'].sum()\n",
        "wd10 = df[(df['workingday'] == 1) & (df['mnth'] == 10)& (df['yr'] == 0)]['cnt'].sum()\n",
        "wd11 = df[(df['workingday'] == 1) & (df['mnth'] == 11)& (df['yr'] == 0)]['cnt'].sum()\n",
        "wd12 = df[(df['workingday'] == 1) & (df['mnth'] == 12)& (df['yr'] == 0)]['cnt'].sum()\n",
        "\n",
        "print(\"Jumlah sepeda yang dirental saat weekday pada bulan Januari :\", wd1 ,'sepeda')\n",
        "print(\"Jumlah sepeda yang dirental saat weekday pada bulan Februari :\", wd2 ,'sepeda')\n",
        "print(\"Jumlah sepeda yang dirental saat weekday pada bulan Maret :\", wd3 ,'sepeda')\n",
        "print(\"Jumlah sepeda yang dirental saat weekday pada bulan April :\", wd4 ,'sepeda')\n",
        "print(\"Jumlah sepeda yang dirental saat weekday pada bulan Mei :\", wd5 ,'sepeda')\n",
        "print(\"Jumlah sepeda yang dirental saat weekday pada bulan Juni :\", wd6 ,'sepeda')\n",
        "print(\"Jumlah sepeda yang dirental saat weekday pada bulan Juli :\", wd7 ,'sepeda')\n",
        "print(\"Jumlah sepeda yang dirental saat weekday pada bulan Agustus :\", wd8 ,'sepeda')\n",
        "print(\"Jumlah sepeda yang dirental saat weekday pada bulan September :\", wd9 ,'sepeda')\n",
        "print(\"Jumlah sepeda yang dirental saat weekday pada bulan Oktober :\", wd10 ,'sepeda')\n",
        "print(\"Jumlah sepeda yang dirental saat weekday pada bulan November :\", wd11 ,'sepeda')\n",
        "print(\"Jumlah sepeda yang dirental saat weekday pada bulan Desember :\", wd12 ,'sepeda')"
      ],
      "metadata": {
        "colab": {
          "base_uri": "https://localhost:8080/"
        },
        "id": "K7SgiHzSiQVy",
        "outputId": "85eb62b5-40f1-417a-835a-a0d08565440f"
      },
      "execution_count": 87,
      "outputs": [
        {
          "output_type": "stream",
          "name": "stdout",
          "text": [
            "Jumlah sepeda yang dirental saat weekday pada bulan Januari : 27009 sepeda\n",
            "Jumlah sepeda yang dirental saat weekday pada bulan Februari : 33601 sepeda\n",
            "Jumlah sepeda yang dirental saat weekday pada bulan Maret : 47037 sepeda\n",
            "Jumlah sepeda yang dirental saat weekday pada bulan April : 62815 sepeda\n",
            "Jumlah sepeda yang dirental saat weekday pada bulan Mei : 91352 sepeda\n",
            "Jumlah sepeda yang dirental saat weekday pada bulan Juni : 103468 sepeda\n",
            "Jumlah sepeda yang dirental saat weekday pada bulan Juli : 88420 sepeda\n",
            "Jumlah sepeda yang dirental saat weekday pada bulan Agustus : 106129 sepeda\n",
            "Jumlah sepeda yang dirental saat weekday pada bulan September : 85034 sepeda\n",
            "Jumlah sepeda yang dirental saat weekday pada bulan Oktober : 79222 sepeda\n",
            "Jumlah sepeda yang dirental saat weekday pada bulan November : 68623 sepeda\n",
            "Jumlah sepeda yang dirental saat weekday pada bulan Desember : 63554 sepeda\n"
          ]
        }
      ]
    },
    {
      "cell_type": "markdown",
      "source": [
        "###Sewa sepeda untuk tahun 2012"
      ],
      "metadata": {
        "id": "tyaDNi4AzINo"
      }
    },
    {
      "cell_type": "code",
      "source": [
        "wdd1 = df[(df['workingday'] == 1) & (df['mnth'] == 1)& (df['yr'] == 1)]['cnt'].sum()\n",
        "wdd2 = df[(df['workingday'] == 1) & (df['mnth'] == 2)& (df['yr'] == 1)]['cnt'].sum()\n",
        "wdd3 = df[(df['workingday'] == 1) & (df['mnth'] == 3)& (df['yr'] == 1)]['cnt'].sum()\n",
        "wdd4 = df[(df['workingday'] == 1) & (df['mnth'] == 4)& (df['yr'] == 1)]['cnt'].sum()\n",
        "wdd5 = df[(df['workingday'] == 1) & (df['mnth'] == 5)& (df['yr'] == 1)]['cnt'].sum()\n",
        "wdd6 = df[(df['workingday'] == 1) & (df['mnth'] == 6)& (df['yr'] == 1)]['cnt'].sum()\n",
        "wdd7 = df[(df['workingday'] == 1) & (df['mnth'] == 7)& (df['yr'] == 1)]['cnt'].sum()\n",
        "wdd8 = df[(df['workingday'] == 1) & (df['mnth'] == 8)& (df['yr'] == 1)]['cnt'].sum()\n",
        "wdd9 = df[(df['workingday'] == 1) & (df['mnth'] == 9)& (df['yr'] == 1)]['cnt'].sum()\n",
        "wdd10 = df[(df['workingday'] == 1) & (df['mnth'] == 10)& (df['yr'] == 1)]['cnt'].sum()\n",
        "wdd11 = df[(df['workingday'] == 1) & (df['mnth'] == 11)& (df['yr'] == 1)]['cnt'].sum()\n",
        "wdd12 = df[(df['workingday'] == 1) & (df['mnth'] == 12)& (df['yr'] == 1)]['cnt'].sum()\n",
        "\n",
        "print(\"Jumlah sepeda yang dirental saat weekday pada bulan Januari :\", wdd1 ,'sepeda')\n",
        "print(\"Jumlah sepeda yang dirental saat weekday pada bulan Februari :\", wdd2 ,'sepeda')\n",
        "print(\"Jumlah sepeda yang dirental saat weekday pada bulan Maret :\", wdd3 ,'sepeda')\n",
        "print(\"Jumlah sepeda yang dirental saat weekday pada bulan April :\", wdd4 ,'sepeda')\n",
        "print(\"Jumlah sepeda yang dirental saat weekday pada bulan Mei :\", wdd5 ,'sepeda')\n",
        "print(\"Jumlah sepeda yang dirental saat weekday pada bulan Juni :\", wdd6 ,'sepeda')\n",
        "print(\"Jumlah sepeda yang dirental saat weekday pada bulan Juli :\", wdd7 ,'sepeda')\n",
        "print(\"Jumlah sepeda yang dirental saat weekday pada bulan Agustus :\", wdd8 ,'sepeda')\n",
        "print(\"Jumlah sepeda yang dirental saat weekday pada bulan September :\", wdd9 ,'sepeda')\n",
        "print(\"Jumlah sepeda yang dirental saat weekday pada bulan Oktober :\", wdd10 ,'sepeda')\n",
        "print(\"Jumlah sepeda yang dirental saat weekday pada bulan November :\", wdd11 ,'sepeda')\n",
        "print(\"Jumlah sepeda yang dirental saat weekday pada bulan Desember :\", wdd12 ,'sepeda')"
      ],
      "metadata": {
        "colab": {
          "base_uri": "https://localhost:8080/"
        },
        "id": "c4YgpyRezJKj",
        "outputId": "3b493629-2b3b-4dc1-9bc3-8d4d8b3f7e96"
      },
      "execution_count": 88,
      "outputs": [
        {
          "output_type": "stream",
          "name": "stdout",
          "text": [
            "Jumlah sepeda yang dirental saat weekday pada bulan Januari : 66907 sepeda\n",
            "Jumlah sepeda yang dirental saat weekday pada bulan Februari : 77403 sepeda\n",
            "Jumlah sepeda yang dirental saat weekday pada bulan Maret : 120026 sepeda\n",
            "Jumlah sepeda yang dirental saat weekday pada bulan April : 117020 sepeda\n",
            "Jumlah sepeda yang dirental saat weekday pada bulan Mei : 134483 sepeda\n",
            "Jumlah sepeda yang dirental saat weekday pada bulan Juni : 138257 sepeda\n",
            "Jumlah sepeda yang dirental saat weekday pada bulan Juli : 143010 sepeda\n",
            "Jumlah sepeda yang dirental saat weekday pada bulan Agustus : 165650 sepeda\n",
            "Jumlah sepeda yang dirental saat weekday pada bulan September : 138593 sepeda\n",
            "Jumlah sepeda yang dirental saat weekday pada bulan Oktober : 140915 sepeda\n",
            "Jumlah sepeda yang dirental saat weekday pada bulan November : 105338 sepeda\n",
            "Jumlah sepeda yang dirental saat weekday pada bulan Desember : 88544 sepeda\n"
          ]
        }
      ]
    },
    {
      "cell_type": "markdown",
      "source": [
        "###Visualization"
      ],
      "metadata": {
        "id": "PDQBwUQN4VRz"
      }
    },
    {
      "cell_type": "code",
      "source": [
        "fig, ax = plt.subplots()\n",
        "\n",
        "year_2011 = ['1', '2', '3', '4','5','6','7','8','9','10','11','12']\n",
        "users_2011 = [wd1,wd2,wd3,wd4,wd5,wd6,wd7,wd8,wd9,wd10,wd11,wd12]\n",
        "bar_labels = ['1', '2', '3', '4','5','6','7','8','9','10','11','12']\n",
        "bar_colors = ['tab:red', 'tab:blue', 'tab:green', 'tab:orange', 'tab:purple', 'tab:brown',\n",
        "              'tab:pink', 'tab:gray', 'tab:olive', 'tab:cyan', 'tab:orange', 'tab:green']\n",
        "\n",
        "ax.bar(year_2011, users_2011, tick_label=bar_labels, color=bar_colors)\n",
        "\n",
        "ax.set_ylabel('users')\n",
        "ax.set_xlabel('month')\n",
        "ax.set_title('2011')\n",
        "\n",
        "plt.show()"
      ],
      "metadata": {
        "colab": {
          "base_uri": "https://localhost:8080/",
          "height": 472
        },
        "id": "gyg3tPs7ztbt",
        "outputId": "f7dd7708-b0fb-4291-cebe-d9ff20f45ba6"
      },
      "execution_count": null,
      "outputs": [
        {
          "output_type": "display_data",
          "data": {
            "text/plain": [
              "<Figure size 640x480 with 1 Axes>"
            ],
            "image/png": "[encoded data removed]"
          },
          "metadata": {}
        }
      ]
    },
    {
      "cell_type": "code",
      "source": [
        "fig, ax = plt.subplots()\n",
        "\n",
        "year_2012 = ['1', '2', '3', '4','5','6','7','8','9','10','11','12']\n",
        "users_2012 = [wdd1,wdd2,wdd3,wdd4,wdd5,wdd6,wdd7,wdd8,wdd9,wdd10,wdd11,wdd12]\n",
        "bar_labels = ['1', '2', '3', '4','5','6','7','8','9','10','11','12']\n",
        "bar_colors = ['tab:red', 'tab:blue', 'tab:green', 'tab:orange', 'tab:purple', 'tab:brown',\n",
        "              'tab:pink', 'tab:gray', 'tab:olive', 'tab:cyan', 'tab:orange', 'tab:green']\n",
        "\n",
        "ax.bar(year_2012, users_2012, tick_label=bar_labels, color=bar_colors)\n",
        "\n",
        "ax.set_ylabel('users')\n",
        "ax.set_xlabel('month')\n",
        "ax.set_title('2012')\n",
        "\n",
        "plt.show()"
      ],
      "metadata": {
        "colab": {
          "base_uri": "https://localhost:8080/",
          "height": 472
        },
        "id": "Bv_z2hlX2XR0",
        "outputId": "fe8f049e-3136-4e1d-ecc8-bd8e1966160d"
      },
      "execution_count": null,
      "outputs": [
        {
          "output_type": "display_data",
          "data": {
            "text/plain": [
              "<Figure size 640x480 with 1 Axes>"
            ],
            "image/png": "[encoded data removed]"
          },
          "metadata": {}
        }
      ]
    },
    {
      "cell_type": "markdown",
      "source": [
        "### Pertanyaan 2: Pada musim apa yang paling banyak dan yang paling sedikit untuk casual, registered, dan total user meminjam sepeda pada tahun 2011-2012?"
      ],
      "metadata": {
        "id": "ktvhCjkNiW6u"
      }
    },
    {
      "cell_type": "markdown",
      "source": [
        "###Banyaknya Casual User untuk Tiap Musim###"
      ],
      "metadata": {
        "id": "zb-kOFVHr8Mz"
      }
    },
    {
      "cell_type": "code",
      "source": [
        "casual_season_1 = df.loc[df['season'] == 1, 'casual'].sum()\n",
        "casual_season_2 = df.loc[df['season'] == 2, 'casual'].sum()\n",
        "casual_season_3 = df.loc[df['season'] == 3, 'casual'].sum()\n",
        "casual_season_4 = df.loc[df['season'] == 4, 'casual'].sum()\n",
        "\n",
        "print(\"Total casual rent bikes when Clear, Few clouds, Partly cloudy, Partly cloudy : \", casual_season_1,'users')\n",
        "print(\"Total casual rent bikes when Mist + Cloudy, Mist + Broken clouds, Mist + Few clouds, Mist : \", casual_season_2,'users')\n",
        "print(\"Total casual rent bikes when Light Snow, Light Rain + Thunderstorm + Scattered clouds, Light Rain + Scattered clouds : \", casual_season_3,'users')\n",
        "print(\"Total casual rent bikes when Heavy Rain + Ice Pallets + Thunderstorm + Mist, Snow + Fog : \", casual_season_4,'users')"
      ],
      "metadata": {
        "colab": {
          "base_uri": "https://localhost:8080/"
        },
        "id": "EIm6YGwnsCLo",
        "outputId": "9ab7c01a-76ac-4c87-a1a0-063bcb332cd6"
      },
      "execution_count": 89,
      "outputs": [
        {
          "output_type": "stream",
          "name": "stdout",
          "text": [
            "Total casual rent bikes when Clear, Few clouds, Partly cloudy, Partly cloudy :  60622 users\n",
            "Total casual rent bikes when Mist + Cloudy, Mist + Broken clouds, Mist + Few clouds, Mist :  203522 users\n",
            "Total casual rent bikes when Light Snow, Light Rain + Thunderstorm + Scattered clouds, Light Rain + Scattered clouds :  226091 users\n",
            "Total casual rent bikes when Heavy Rain + Ice Pallets + Thunderstorm + Mist, Snow + Fog :  129782 users\n"
          ]
        }
      ]
    },
    {
      "cell_type": "markdown",
      "source": [
        "###Banyaknya Registered User untuk Tiap Musim###"
      ],
      "metadata": {
        "id": "cwbRvptDsIm3"
      }
    },
    {
      "cell_type": "code",
      "source": [
        "registered_season_1 = df.loc[df['season'] == 1, 'registered'].sum()\n",
        "registered_season_2 = df.loc[df['season'] == 2, 'registered'].sum()\n",
        "registered_season_3 = df.loc[df['season'] == 3, 'registered'].sum()\n",
        "registered_season_4 = df.loc[df['season'] == 4, 'registered'].sum()\n",
        "\n",
        "print(\"Total registered rent bikes when Clear, Few clouds, Partly cloudy, Partly cloudy : \", registered_season_1,'users')\n",
        "print(\"Total registered rent bikes when Mist + Cloudy, Mist + Broken clouds, Mist + Few clouds, Mist : \", registered_season_2,'users')\n",
        "print(\"Total registered rent bikes when Light Snow, Light Rain + Thunderstorm + Scattered clouds, Light Rain + Scattered clouds : \", registered_season_3,'users')\n",
        "print(\"Total registered rent bikes when Heavy Rain + Ice Pallets + Thunderstorm + Mist, Snow + Fog : \",registered_season_4,'users')"
      ],
      "metadata": {
        "colab": {
          "base_uri": "https://localhost:8080/"
        },
        "id": "11JMDyDRsJBt",
        "outputId": "0af7ee0b-88aa-4027-c784-9834e06b915a"
      },
      "execution_count": 90,
      "outputs": [
        {
          "output_type": "stream",
          "name": "stdout",
          "text": [
            "Total registered rent bikes when Clear, Few clouds, Partly cloudy, Partly cloudy :  410726 users\n",
            "Total registered rent bikes when Mist + Cloudy, Mist + Broken clouds, Mist + Few clouds, Mist :  715067 users\n",
            "Total registered rent bikes when Light Snow, Light Rain + Thunderstorm + Scattered clouds, Light Rain + Scattered clouds :  835038 users\n",
            "Total registered rent bikes when Heavy Rain + Ice Pallets + Thunderstorm + Mist, Snow + Fog :  711831 users\n"
          ]
        }
      ]
    },
    {
      "cell_type": "markdown",
      "source": [
        "###Banyaknya Total User (Casual + Registered) untuk Tiap Musim###"
      ],
      "metadata": {
        "id": "lPFAS_ZbsWsL"
      }
    },
    {
      "cell_type": "code",
      "source": [
        "cnt_season_1 = df.loc[df['season'] == 1, 'cnt'].sum()\n",
        "cnt_season_2 = df.loc[df['season'] == 2, 'cnt'].sum()\n",
        "cnt_season_3 = df.loc[df['season'] == 3, 'cnt'].sum()\n",
        "cnt_season_4 = df.loc[df['season'] == 4, 'cnt'].sum()\n",
        "\n",
        "print(\"Total rent bikes when Clear, Few clouds, Partly cloudy, Partly cloudy : \", cnt_season_1,'users')\n",
        "print(\"Total rent bikes when Mist + Cloudy, Mist + Broken clouds, Mist + Few clouds, Mist : \", cnt_season_2,'users')\n",
        "print(\"Total rent bikes when Light Snow, Light Rain + Thunderstorm + Scattered clouds, Light Rain + Scattered clouds : \", cnt_season_3,'users')\n",
        "print(\"Total rent bikes when Heavy Rain + Ice Pallets + Thunderstorm + Mist, Snow + Fog : \", cnt_season_4,'users')"
      ],
      "metadata": {
        "id": "Xz8_VVW-sUyp"
      },
      "execution_count": null,
      "outputs": []
    },
    {
      "cell_type": "markdown",
      "source": [
        "###Visualization"
      ],
      "metadata": {
        "id": "Ge35H0W_sOqK"
      }
    },
    {
      "cell_type": "markdown",
      "source": [
        "**Casual User**"
      ],
      "metadata": {
        "id": "GGrkwAObsr39"
      }
    },
    {
      "cell_type": "code",
      "source": [
        "fig, ax = plt.subplots()\n",
        "\n",
        "\n",
        "casual_user = ['1', '2', '3', '4']\n",
        "counts = [60622, 203522, 226091, 129782]\n",
        "bar_labels = ['1', '2', '3', '4']\n",
        "bar_colors = ['tab:red', 'tab:blue', 'tab:green', 'tab:orange']\n",
        "\n",
        "ax.bar(casual_user, counts, label=bar_labels, color=bar_colors)\n",
        "\n",
        "ax.set_ylabel('users')\n",
        "ax.set_xlabel('season')\n",
        "ax.set_title('Casual User for Every Season')\n",
        "ax.legend(title='Season')\n",
        "\n",
        "plt.show()"
      ],
      "metadata": {
        "colab": {
          "base_uri": "https://localhost:8080/",
          "height": 472
        },
        "id": "_X6gGkb2iYZn",
        "outputId": "bfe3adce-d26c-411c-c986-7abbd1338a9d"
      },
      "execution_count": null,
      "outputs": [
        {
          "output_type": "display_data",
          "data": {
            "text/plain": [
              "<Figure size 640x480 with 1 Axes>"
            ],
            "image/png": "[encoded data removed]"
          },
          "metadata": {}
        }
      ]
    },
    {
      "cell_type": "markdown",
      "source": [
        "**Registered User**"
      ],
      "metadata": {
        "id": "jz8qJC5isv71"
      }
    },
    {
      "cell_type": "code",
      "source": [
        "fig, ax = plt.subplots()\n",
        "\n",
        "\n",
        "registered_user = ['1', '2', '3', '4']\n",
        "counts = [410726, 715067, 835038, 711831]\n",
        "bar_labels = ['1', '2', '3', '4']\n",
        "bar_colors = ['tab:red', 'tab:blue', 'tab:green', 'tab:orange']\n",
        "\n",
        "ax.bar(registered_user, counts, label=bar_labels, color=bar_colors)\n",
        "\n",
        "ax.set_ylabel('users')\n",
        "ax.set_xlabel('season')\n",
        "ax.set_title('Registered User for Every Season')\n",
        "ax.legend(title='Season')\n",
        "\n",
        "plt.show()"
      ],
      "metadata": {
        "colab": {
          "base_uri": "https://localhost:8080/",
          "height": 472
        },
        "id": "nAXon2aTibwh",
        "outputId": "db577f3c-e1bd-4436-ada8-b20bf8e7f835"
      },
      "execution_count": null,
      "outputs": [
        {
          "output_type": "display_data",
          "data": {
            "text/plain": [
              "<Figure size 640x480 with 1 Axes>"
            ],
            "image/png": "[encoded data removed]"
          },
          "metadata": {}
        }
      ]
    },
    {
      "cell_type": "markdown",
      "source": [
        "**Total User**"
      ],
      "metadata": {
        "id": "b-5a6WTxs3Oh"
      }
    },
    {
      "cell_type": "code",
      "source": [
        "fig, ax = plt.subplots()\n",
        "\n",
        "total_user = ['1', '2', '3', '4']\n",
        "counts = [471348, 918589, 1061129, 841613]\n",
        "bar_labels = ['1', '2', '3', '4']\n",
        "bar_colors = ['tab:red', 'tab:blue', 'tab:green', 'tab:orange']\n",
        "\n",
        "ax.bar(total_user, counts, label=bar_labels, color=bar_colors)\n",
        "\n",
        "def custom_formatter(x, pos):\n",
        "    if x < 1e6:\n",
        "        return f'{x/1e3:.0f}K'\n",
        "    else:\n",
        "        return f'{x/1e6:.1f}M'\n",
        "\n",
        "ax.yaxis.set_major_formatter(FuncFormatter(custom_formatter))\n",
        "\n",
        "ax.set_ylabel('Users')\n",
        "ax.set_xlabel('Season')\n",
        "ax.set_title('Total Users for Every Season')\n",
        "ax.legend(title='Season')\n",
        "\n",
        "plt.show()"
      ],
      "metadata": {
        "colab": {
          "base_uri": "https://localhost:8080/",
          "height": 472
        },
        "id": "L4XAQmspkA5k",
        "outputId": "fa676ad5-9036-4c5f-f03e-2127f6ba6612"
      },
      "execution_count": null,
      "outputs": [
        {
          "output_type": "display_data",
          "data": {
            "text/plain": [
              "<Figure size 640x480 with 1 Axes>"
            ],
            "image/png": "[encoded data removed]"
          },
          "metadata": {}
        }
      ]
    },
    {
      "cell_type": "markdown",
      "source": [
        "## Conclusion"
      ],
      "metadata": {
        "id": "54o5kSH0G9ju"
      }
    },
    {
      "cell_type": "markdown",
      "source": [
        "- Conclution pertanyaan 1 : Dapat disimpulkan bahwa untuk tahun 2011 dan 2012, sepeda paling banyak dirental saat bulan Agustus dan paling sedikit saat bulan Januari."
      ],
      "metadata": {
        "id": "ccteM5yxG_SI"
      }
    },
    {
      "cell_type": "markdown",
      "source": [
        "- Conclution pertanyaan 2 : Dari ketiga hal (Casual, Registered, dan Total User), dapat disimpulkan bahwa sepeda paling banyak dirental pada saat musim Light Snow, Light Rain + Thunderstorm + Scattered clouds, Light Rain + Scattered clouds dan yang paling sedikit saat musim Clear, Few clouds, Partly cloudy, Partly cloudy"
      ],
      "metadata": {
        "id": "UKFR0bGVHDf2"
      }
    }
  ]
}